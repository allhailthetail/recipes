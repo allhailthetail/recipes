{
 "cells": [
  {
   "cell_type": "markdown",
   "id": "f24f7840",
   "metadata": {},
   "source": [
    "### Import Libraries for Python:"
   ]
  },
  {
   "cell_type": "code",
   "execution_count": 1,
   "id": "bc36c282",
   "metadata": {},
   "outputs": [],
   "source": [
    "import pandas as pd"
   ]
  },
  {
   "cell_type": "markdown",
   "id": "368c9a81",
   "metadata": {},
   "source": [
    "# Basic Formulae:"
   ]
  },
  {
   "cell_type": "markdown",
   "id": "ed617481",
   "metadata": {},
   "source": [
    "F = W/P\n",
    "> Total weight in flour (F) is the quotient of total project weight (W) and the sum of all percentages (P)\n",
    "\n",
    "w = p*F\n",
    "> Weight of a given ingredient (w) is the product of its percentage and the total weight in flour (F)\n",
    "\n",
    "p<sub>starter</sub> = p<sub>ppf</sub> / p<sub>levian</sub>\n",
    "> For calculating percentage of starter to use in terms of _THE LEVIAN'S TOTAL WEIGHT,_ use this formula."
   ]
  },
  {
   "cell_type": "markdown",
   "id": "096fa6ef",
   "metadata": {},
   "source": [
    "# Overall Proportions:\n",
    "> /100 to work mathematically in Python"
   ]
  },
  {
   "cell_type": "code",
   "execution_count": 2,
   "id": "6b248bfa",
   "metadata": {},
   "outputs": [
    {
     "name": "stdout",
     "output_type": "stream",
     "text": [
      "Computing for 1000 g total project weight.\n",
      "\n",
      "Overall Hydration    0.80\n",
      "PFF                  0.05\n",
      "Levian               0.20\n",
      "dtype: float64\n"
     ]
    }
   ],
   "source": [
    "# Provide Total Project Weight (g)\n",
    "W = 1000\n",
    "\n",
    "print(f'Computing for {W} g total project weight.\\n')\n",
    "\n",
    "\n",
    "# Provide Overall Properties of the Bread (%)\n",
    "overallProportions = {\n",
    "    'Overall Hydration': .80,\n",
    "    'PFF': .05,\n",
    "    'Levian': .20\n",
    "}\n",
    "\n",
    "overallProportionsSeries = pd.Series(data=overallProportions)\n",
    "print(overallProportionsSeries)"
   ]
  },
  {
   "cell_type": "markdown",
   "id": "96e5fcd5",
   "metadata": {},
   "source": [
    "### Ingredients by Percentage:"
   ]
  },
  {
   "cell_type": "code",
   "execution_count": 3,
   "id": "7c8d7581",
   "metadata": {},
   "outputs": [
    {
     "data": {
      "text/plain": [
       "Bread Flour    0.80\n",
       "Whole Wheat    0.20\n",
       "Water 1        0.70\n",
       "Water 2        0.10\n",
       "Salt           0.02\n",
       "Starter        0.05\n",
       "dtype: float64"
      ]
     },
     "execution_count": 3,
     "metadata": {},
     "output_type": "execute_result"
    }
   ],
   "source": [
    "# Provide Proportions for Flours, Water additions, Salt\n",
    "ingredientPercent = {\n",
    "    'Bread Flour': .80,\n",
    "    'Whole Wheat': .20,\n",
    "    'Water 1': .70,\n",
    "    'Water 2': .10,\n",
    "    'Salt': .02,\n",
    "    'Starter': overallProportions['PFF']  # Because Starter IS ppf.\n",
    "}\n",
    "\n",
    "ingredientPercentSeries = pd.Series(data=ingredientPercent)\n",
    "\n",
    "ingredientPercentSeries"
   ]
  },
  {
   "cell_type": "markdown",
   "id": "f02806ed",
   "metadata": {},
   "source": [
    "### Calculating variable F:\n",
    "> This is your total flour weight (F)  This is the most important number of the whole calculation."
   ]
  },
  {
   "cell_type": "code",
   "execution_count": 9,
   "id": "6b49ed08",
   "metadata": {
    "scrolled": true
   },
   "outputs": [
    {
     "name": "stdout",
     "output_type": "stream",
     "text": [
      "total weight of flour: 535 g\n"
     ]
    }
   ],
   "source": [
    "F = W / ingredientPercentSeries.sum()\n",
    "print(f\"total weight of flour: {round(F)} g\")"
   ]
  },
  {
   "cell_type": "markdown",
   "id": "933f7978",
   "metadata": {},
   "source": [
    "# Total Ingredients by Weight:\n",
    ">All units expressed in grams (g)"
   ]
  },
  {
   "cell_type": "code",
   "execution_count": 5,
   "id": "c5222613",
   "metadata": {},
   "outputs": [
    {
     "data": {
      "text/plain": [
       "Bread Flour    428.0\n",
       "Whole Wheat    107.0\n",
       "Water 1        374.0\n",
       "Water 2         53.0\n",
       "Salt            11.0\n",
       "Starter         27.0\n",
       "dtype: float64"
      ]
     },
     "execution_count": 5,
     "metadata": {},
     "output_type": "execute_result"
    }
   ],
   "source": [
    "totalIngredient = ingredientPercentSeries * F\n",
    "\n",
    "round(totalIngredient)"
   ]
  },
  {
   "cell_type": "markdown",
   "id": "48ce42be",
   "metadata": {},
   "source": [
    "# Levian Calculations:\n",
    ">All units expressed in grams (g)"
   ]
  },
  {
   "cell_type": "code",
   "execution_count": 6,
   "id": "0d27f26e",
   "metadata": {},
   "outputs": [
    {
     "name": "stdout",
     "output_type": "stream",
     "text": [
      "Levian's Total Weight:107 \n",
      "\n",
      "Levian Ingredients:\n"
     ]
    },
    {
     "data": {
      "text/plain": [
       "Bread Flour     54.0\n",
       "Whole Wheat     54.0\n",
       "Water 1        107.0\n",
       "Starter         27.0\n",
       "dtype: float64"
      ]
     },
     "execution_count": 6,
     "metadata": {},
     "output_type": "execute_result"
    }
   ],
   "source": [
    "weightLevian = round(F * overallProportionsSeries['Levian'])\n",
    "\n",
    "print(f\"Levian's Total Weight:{weightLevian} \\n\")\n",
    "levianRatioSeries = pd.Series(\n",
    "    {\n",
    "    'Bread Flour': .50,\n",
    "    'Whole Wheat': .50,\n",
    "    'Water 1': 1,\n",
    "    'Starter': ingredientPercentSeries['Starter'] / overallProportionsSeries['Levian']\n",
    "    } \n",
    ")\n",
    "\n",
    "levianIngredient = levianRatioSeries * weightLevian \n",
    "\n",
    "print('Levian Ingredients:')\n",
    "round(levianIngredient)\n",
    "\n"
   ]
  },
  {
   "cell_type": "markdown",
   "id": "540199e3",
   "metadata": {},
   "source": [
    "# Autolyse Calculations:\n",
    ">All units expressed in grams (g)"
   ]
  },
  {
   "cell_type": "code",
   "execution_count": 7,
   "id": "4e02bacd",
   "metadata": {},
   "outputs": [
    {
     "name": "stdout",
     "output_type": "stream",
     "text": [
      "Autolyse Ingredients:\n"
     ]
    },
    {
     "data": {
      "text/plain": [
       "Bread Flour    374.0\n",
       "Water 1        267.0\n",
       "Whole Wheat     53.0\n",
       "dtype: float64"
      ]
     },
     "execution_count": 7,
     "metadata": {},
     "output_type": "execute_result"
    }
   ],
   "source": [
    "autolyseIngredient = totalIngredient.subtract(\n",
    "    levianIngredient, fill_value=0).drop(\n",
    "    labels=['Salt','Water 2','Starter'])\n",
    "\n",
    "print('Autolyse Ingredients:')\n",
    "round(autolyseIngredient)"
   ]
  },
  {
   "cell_type": "markdown",
   "id": "d367b8d5",
   "metadata": {},
   "source": [
    "Mix Calculations:\n",
    "> All units expressed in grams (g) <br>\n",
    "> `and 1tsp of apple cider vinegar.`"
   ]
  },
  {
   "cell_type": "code",
   "execution_count": 8,
   "id": "b50f9788",
   "metadata": {},
   "outputs": [
    {
     "data": {
      "text/plain": [
       "Salt       11.0\n",
       "Water 2    53.0\n",
       "dtype: float64"
      ]
     },
     "execution_count": 8,
     "metadata": {},
     "output_type": "execute_result"
    }
   ],
   "source": [
    "mixIngredient = totalIngredient.subtract(levianIngredient, fill_value=0) \n",
    "round(mixIngredient.drop(labels=['Water 1','Bread Flour','Whole Wheat','Starter']))"
   ]
  }
 ],
 "metadata": {
  "kernelspec": {
   "display_name": "Python 3 (ipykernel)",
   "language": "python",
   "name": "python3"
  },
  "language_info": {
   "codemirror_mode": {
    "name": "ipython",
    "version": 3
   },
   "file_extension": ".py",
   "mimetype": "text/x-python",
   "name": "python",
   "nbconvert_exporter": "python",
   "pygments_lexer": "ipython3",
   "version": "3.10.9"
  }
 },
 "nbformat": 4,
 "nbformat_minor": 5
}
